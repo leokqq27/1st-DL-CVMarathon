{
 "cells": [
  {
   "cell_type": "markdown",
   "metadata": {},
   "source": [
    "# API 資料串接 - 以 Dcard API 實作範例\n",
    "\n",
    "* 了解 Dcard API 使用方式與回傳內容\n",
    "* 撰寫程式存取 API 且解析 JSON 格式資料\n"
   ]
  },
  {
   "cell_type": "markdown",
   "metadata": {},
   "source": [
    "## 作業目標\n",
    "\n",
    "* 請利用 API: https://www.dcard.tw/_api/forums/pet/posts?popular=true 回答下列問題：\n",
    "\n",
    "1. 這個 API 一次會回傳幾筆資料？每一筆資料包含哪些欄位？\n",
    "2. 取出每一筆資料的「標題」、「貼文時間」、「留言人數」、「按讚人數」\n",
    "3. 計算熱門/非熱門文章的「平均留言人數」與「平均按讚人數」"
   ]
  },
  {
   "cell_type": "code",
   "execution_count": 13,
   "metadata": {},
   "outputs": [],
   "source": [
    "import requests\n",
    "import json\n",
    "r=requests.get('https://www.dcard.tw/_api/forums/pet/posts?popular=true')\n",
    "r.text\n",
    "data = json.loads(r.text)"
   ]
  },
  {
   "cell_type": "code",
   "execution_count": 14,
   "metadata": {},
   "outputs": [
    {
     "name": "stdout",
     "output_type": "stream",
     "text": [
      "回傳 30 筆資料\n",
      "dict_keys(['id', 'title', 'excerpt', 'anonymousSchool', 'anonymousDepartment', 'pinned', 'forumId', 'replyId', 'createdAt', 'updatedAt', 'commentCount', 'likeCount', 'withNickname', 'tags', 'topics', 'meta', 'forumName', 'forumAlias', 'nsfw', 'gender', 'school', 'replyTitle', 'mediaMeta', 'reactions', 'hidden', 'customStyle', 'isSuspiciousAccount', 'layout', 'withImages', 'withVideos', 'media', 'reportReasonText', 'postAvatar'])\n"
     ]
    }
   ],
   "source": [
    "# 1. 這個 API 一次會回傳幾筆資料？每一筆資料包含哪些欄位？\n",
    "print('回傳',len(data),'筆資料')\n",
    "print(data[0].keys())"
   ]
  },
  {
   "cell_type": "code",
   "execution_count": 15,
   "metadata": {},
   "outputs": [
    {
     "name": "stdout",
     "output_type": "stream",
     "text": [
      "標題 為了Alpha衝一波（圖多）\n",
      "貼文時間 2020-07-04T16:55:38.478Z\n",
      "留言人數 7\n",
      "按讚人數 158\n",
      "標題 我家貓也怪怪怪怪怪\n",
      "貼文時間 2020-07-05T02:49:53.992Z\n",
      "留言人數 6\n",
      "按讚人數 80\n",
      "標題 #請益 貓咪的肉球怎麼了😭\n",
      "貼文時間 2020-07-04T18:20:43.601Z\n",
      "留言人數 4\n",
      "按讚人數 22\n",
      "標題 #問 大樓禁養寵物有法律效力嗎？\n",
      "貼文時間 2020-07-05T15:01:31.211Z\n",
      "留言人數 4\n",
      "按讚人數 20\n",
      "標題 我家的歐告小寶貝\n",
      "貼文時間 2020-07-05T02:07:31.270Z\n",
      "留言人數 6\n",
      "按讚人數 18\n",
      "標題 貓咪兩天沒上廁所\n",
      "貼文時間 2020-07-05T08:27:49.596Z\n",
      "留言人數 5\n",
      "按讚人數 15\n",
      "標題 3個多月的🐱 幼貓送養\n",
      "貼文時間 2020-07-05T08:53:57.739Z\n",
      "留言人數 2\n",
      "按讚人數 14\n",
      "標題 +9屁孩被制伏\n",
      "貼文時間 2020-07-05T04:33:23.952Z\n",
      "留言人數 0\n",
      "按讚人數 13\n",
      "標題 我的貓看起來很好吃\n",
      "貼文時間 2020-07-04T19:34:55.553Z\n",
      "留言人數 5\n",
      "按讚人數 13\n",
      "標題 鄰居把貓養在陽台\n",
      "貼文時間 2020-07-04T17:50:15.508Z\n",
      "留言人數 4\n",
      "按讚人數 13\n",
      "標題 睡一個午覺。\n",
      "貼文時間 2020-07-05T09:11:08.655Z\n",
      "留言人數 0\n",
      "按讚人數 11\n",
      "標題 我們家妹妹好可愛\n",
      "貼文時間 2020-07-05T18:46:09.922Z\n",
      "留言人數 0\n",
      "按讚人數 10\n",
      "標題 主子最近非常易怒\n",
      "貼文時間 2020-07-04T21:04:28.172Z\n",
      "留言人數 14\n",
      "按讚人數 9\n",
      "標題 喵 胖不了的橘貓\n",
      "貼文時間 2020-07-04T19:19:01.759Z\n",
      "留言人數 0\n",
      "按讚人數 9\n",
      "標題 貓咪走失 懸賞5000拜託大家幫忙😭（沙鹿弘光斜對面）\n",
      "貼文時間 2020-07-05T15:24:46.112Z\n",
      "留言人數 3\n",
      "按讚人數 8\n",
      "標題 分享家裡度估的貓貓\n",
      "貼文時間 2020-07-05T13:33:21.756Z\n",
      "留言人數 1\n",
      "按讚人數 7\n",
      "標題 我家的鼠鼠很不親人\n",
      "貼文時間 2020-07-04T16:43:35.308Z\n",
      "留言人數 7\n",
      "按讚人數 7\n",
      "標題 內褲他的愛\n",
      "貼文時間 2020-07-05T11:45:10.274Z\n",
      "留言人數 3\n",
      "按讚人數 6\n",
      "標題 最近被咬了\n",
      "貼文時間 2020-07-04T17:06:29.351Z\n",
      "留言人數 0\n",
      "按讚人數 5\n",
      "標題 小偷偷貓？\n",
      "貼文時間 2020-07-06T01:46:16.208Z\n",
      "留言人數 5\n",
      "按讚人數 4\n",
      "標題 奇怪的床位\n",
      "貼文時間 2020-07-06T00:55:03.891Z\n",
      "留言人數 0\n",
      "按讚人數 4\n",
      "標題 新的成員😍 天竺鼠\n",
      "貼文時間 2020-07-05T11:28:58.043Z\n",
      "留言人數 5\n",
      "按讚人數 4\n",
      "標題 吃飽就甩手\n",
      "貼文時間 2020-07-04T19:05:53.954Z\n",
      "留言人數 1\n",
      "按讚人數 4\n",
      "標題 #養貓 貓奴請進\n",
      "貼文時間 2020-07-04T15:59:53.228Z\n",
      "留言人數 8\n",
      "按讚人數 4\n",
      "標題 文鳥換毛\n",
      "貼文時間 2020-07-05T10:02:58.515Z\n",
      "留言人數 0\n",
      "按讚人數 3\n",
      "標題 小短手\n",
      "貼文時間 2020-07-05T01:01:09.869Z\n",
      "留言人數 0\n",
      "按讚人數 3\n",
      "標題 柴犬壞掉了 請問怎麼修？\n",
      "貼文時間 2020-07-06T02:32:32.239Z\n",
      "留言人數 2\n",
      "按讚人數 2\n",
      "標題 你在看什麼\n",
      "貼文時間 2020-07-05T20:58:40.337Z\n",
      "留言人數 1\n",
      "按讚人數 2\n",
      "標題 豆腐砂裡的蟲\n",
      "貼文時間 2020-07-06T01:35:39.823Z\n",
      "留言人數 4\n",
      "按讚人數 1\n",
      "標題 自己的猶豫不決，沒有救活小貓\n",
      "貼文時間 2020-07-05T22:54:30.659Z\n",
      "留言人數 3\n",
      "按讚人數 1\n"
     ]
    }
   ],
   "source": [
    "# 2. 取出每一筆資料的「標題」、「貼文時間」、「留言人數」、「按讚人數」\n",
    "for row in data:\n",
    "    print('標題',row['title'])\n",
    "    print('貼文時間',row['createdAt'])\n",
    "    print('留言人數',row['commentCount'])\n",
    "    print('按讚人數',row['likeCount'])"
   ]
  },
  {
   "cell_type": "code",
   "execution_count": 18,
   "metadata": {},
   "outputs": [
    {
     "name": "stdout",
     "output_type": "stream",
     "text": [
      "熱門文章平均留言數 3.3333333333333335\n",
      "熱門文章平均案讚數 15.666666666666666\n",
      "非熱門文章平均留言數 2.4\n",
      "非熱門文章平均案讚數 3.8666666666666667\n"
     ]
    }
   ],
   "source": [
    "# 3. 計算熱門/非熱門文章的「平均留言人數」與「平均按讚人數」\n",
    "\n",
    "comment = 0\n",
    "like = 0\n",
    "\n",
    "for row in data:\n",
    "    comment += row['commentCount']\n",
    "    like += row['likeCount']\n",
    "average_comment = comment / len(data)\n",
    "average_like = like / len(data)\n",
    "\n",
    "print('熱門文章平均留言數',average_comment)\n",
    "print('熱門文章平均案讚數',average_like)\n",
    "\n",
    "r2=requests.get('https://www.dcard.tw/_api/forums/pet/posts?popular=false')\n",
    "r2.text\n",
    "data = json.loads(r2.text)\n",
    "\n",
    "comment = 0\n",
    "like = 0\n",
    "\n",
    "for row in data:\n",
    "    comment += row['commentCount']\n",
    "    like += row['likeCount']\n",
    "average_comment = comment / len(data)\n",
    "average_like = like / len(data)\n",
    "\n",
    "print('非熱門文章平均留言數',average_comment)\n",
    "print('非熱門文章平均案讚數',average_like)"
   ]
  },
  {
   "cell_type": "code",
   "execution_count": null,
   "metadata": {},
   "outputs": [],
   "source": []
  },
  {
   "cell_type": "code",
   "execution_count": null,
   "metadata": {},
   "outputs": [],
   "source": []
  }
 ],
 "metadata": {
  "kernelspec": {
   "display_name": "Python 3",
   "language": "python",
   "name": "python3"
  },
  "language_info": {
   "codemirror_mode": {
    "name": "ipython",
    "version": 3
   },
   "file_extension": ".py",
   "mimetype": "text/x-python",
   "name": "python",
   "nbconvert_exporter": "python",
   "pygments_lexer": "ipython3",
   "version": "3.7.4"
  }
 },
 "nbformat": 4,
 "nbformat_minor": 2
}
