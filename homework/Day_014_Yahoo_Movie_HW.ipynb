{
 "cells": [
  {
   "cell_type": "markdown",
   "metadata": {},
   "source": [
    "# YAHOO電影爬蟲練習\n",
    "## 練習爬取電影放映資訊。必須逐步獲取電影的代號、放映地區、放映日期後，再送出查詢給伺服器。"
   ]
  },
  {
   "cell_type": "code",
   "execution_count": 1,
   "metadata": {},
   "outputs": [],
   "source": [
    "import requests\n",
    "import re\n",
    "from bs4 import BeautifulSoup"
   ]
  },
  {
   "cell_type": "markdown",
   "metadata": {},
   "source": [
    "### 先搜尋全部的電影代號(ID)資訊"
   ]
  },
  {
   "cell_type": "code",
   "execution_count": 2,
   "metadata": {},
   "outputs": [
    {
     "name": "stdout",
     "output_type": "stream",
     "text": [
      "Movie: 男子啦啦隊, ID: 10809\n",
      "Movie: 祕密花園, ID: 10524\n",
      "Movie: 賭博默示錄：最終遊戲, ID: 10791\n",
      "Movie: 人皮咒, ID: 10764\n",
      "Movie: 我的A級秘密, ID: 10763\n",
      "Movie: 極線生機, ID: 10762\n",
      "Movie: 死因無可疑, ID: 10755\n",
      "Movie: 超能西蒙的奇幻旅程, ID: 10754\n",
      "Movie: 戰爭中的鬼故事, ID: 10752\n",
      "Movie: 犬犬風塵, ID: 10744\n",
      "Movie: 鬼侍女, ID: 10735\n",
      "Movie: 頭號粉絲, ID: 10722\n",
      "Movie: 遇見世界上另一個你, ID: 10714\n",
      "Movie: 破處, ID: 10641\n",
      "Movie: 被遺忘的人生, ID: 10592\n",
      "Movie: 屍速列車 特別版, ID: 10784\n",
      "Movie: 波希米亞狂想曲, ID: 10786\n",
      "Movie: 大娛樂家, ID: 10785\n",
      "Movie: 慾望街車, ID: 10758\n",
      "Movie: 萬花嬉春, ID: 10748\n",
      "Movie: 愛情，是開始還是結束, ID: 10743\n",
      "Movie: 72小時前哨救援, ID: 10729\n",
      "Movie: 捕魔網, ID: 10727\n",
      "Movie: 福島50英雄, ID: 10726\n",
      "Movie: 親愛的小孩, ID: 10720\n",
      "Movie: 阿基拉, ID: 10710\n",
      "Movie: 鐵線蟲入侵, ID: 10704\n",
      "Movie: 超能追緝, ID: 10698\n",
      "Movie: 驚夢49天, ID: 10696\n",
      "Movie: 親切的金子, ID: 10682\n",
      "Movie: 原罪犯, ID: 10681\n",
      "Movie: 我要復仇, ID: 10680\n",
      "Movie: 玩命Online：雙槍對決, ID: 10659\n",
      "Movie: 天后小助理, ID: 10559\n",
      "Movie: 失控特工, ID: 10734\n",
      "Movie: 明信片謀殺案, ID: 10724\n",
      "Movie: 羅根, ID: 10718\n",
      "Movie: 混沌之神, ID: 10709\n",
      "Movie: 最瘋狂的旅程, ID: 10705\n",
      "Movie: 阿基米德大戰, ID: 10702\n",
      "Movie: 血疫, ID: 10701\n",
      "Movie: 射鵰英雄傳之東成西就, ID: 10694\n",
      "Movie: 東邪西毒：終極版, ID: 10693\n",
      "Movie: 戀戀琴聲, ID: 10685\n",
      "Movie: 大叔, ID: 10679\n",
      "Movie: 媽！我阿榮啦, ID: 10646\n",
      "Movie: 銀翼殺手最終版, ID: 10732\n",
      "Movie: 北非諜影, ID: 10725\n",
      "Movie: 金魚俱樂部, ID: 10721\n",
      "Movie: 電影版聲之形, ID: 10706\n",
      "Movie: 深海擴散, ID: 10697\n",
      "Movie: 普立茲記者, ID: 10670\n",
      "Movie: 非常母親, ID: 10662\n",
      "Movie: 親愛陌生人, ID: 10643\n",
      "Movie: 婚姻大崩壞, ID: 10534\n",
      "Movie: 蚵豐村, ID: 10688\n",
      "Movie: 詭妹, ID: 10667\n",
      "Movie: 淒厲人僧, ID: 10578\n",
      "Movie: 諜影殺機, ID: 10742\n",
      "Movie: 放飛大丈夫, ID: 10651\n",
      "Movie: 關不住的誘惑, ID: 10741\n",
      "Movie: 謊畫情人, ID: 10577\n",
      "Movie: 1/2的魔法, ID: 10505\n",
      "Movie: 葉問4：完結篇, ID: 10675\n",
      "Movie: 來自深淵 深沉靈魂的黎明  4DX/MX4D, ID: 10658\n",
      "Movie: 天氣之子, ID: 10645\n",
      "Movie: 末代皇帝, ID: 10640\n",
      "Movie: 陪你玩最大, ID: 10602\n",
      "Movie: 金都, ID: 10530\n",
      "Movie: 抽屍剝繭, ID: 10591\n",
      "Movie: 數碼寶貝 LAST EVOLUTION 絆, ID: 10572\n",
      "Movie: 吞噬, ID: 10560\n",
      "Movie: 戀愛倒帶中, ID: 10589\n",
      "Movie: 鑰命監獄, ID: 10579\n",
      "Movie: 居禮夫人：放射永恆, ID: 10537\n",
      "Movie: 間諜速成班, ID: 10538\n",
      "Movie: 我的英雄學院劇場版：英雄新世紀, ID: 10481\n",
      "Movie: 迷雁返家路, ID: 10533\n",
      "Movie: 最後晚安曲, ID: 10499\n",
      "Movie: 刺激1995, ID: 10518\n",
      "Movie: 血衛, ID: 10469\n",
      "Movie: 大畫特務, ID: 10478\n",
      "Movie: 艾瑪, ID: 10396\n",
      "Movie: 女鬼橋, ID: 10437\n",
      "Movie: 隱形人, ID: 10359\n",
      "Movie: 猛禽小隊：小丑女大解放, ID: 10268\n",
      "Movie: 紅鞋公主與七矮人, ID: 10417\n",
      "Movie: 深海終劫站, ID: 10230\n",
      "Movie: 巧虎電影：英雄遊樂園, ID: 10429\n",
      "Movie: 兔嘲男孩, ID: 10283\n",
      "Movie: 燃燒女子的畫像, ID: 10069\n",
      "Movie: 花生醬獵鷹的願望, ID: 10340\n",
      "Movie: 大餓, ID: 10296\n",
      "Movie: 逆轉劫局, ID: 10054\n",
      "Movie: 愛上觸不到的你, ID: 9516\n",
      "Movie: 沒有煙硝的愛情, ID: 9478\n",
      "Movie: 新橋戀人, ID: 9089\n",
      "Movie: 波希米亞狂想曲., ID: 8232\n",
      "Movie: 大娛樂家., ID: 6981\n",
      "Movie: 此情可問天經典數位修復, ID: 7227\n",
      "Movie: 墨利斯的情人經典數位修復, ID: 6816\n",
      "Movie: 刀劍神域劇場版－序列爭戰, ID: 6600\n",
      "Movie: 牯嶺街少年殺人事件, ID: 6542\n",
      "Movie: 屍憶, ID: 5722\n",
      "Movie: 一首搖滾上月球, ID: 4887\n",
      "Movie: 錢不夠用2, ID: 3026\n"
     ]
    }
   ],
   "source": [
    "# 查看目前上映那些電影，並擷取出其ID資訊\n",
    "url = 'https://movies.yahoo.com.tw'\n",
    "resp = requests.get(url)\n",
    "resp.encoding = 'utf-8'\n",
    "\n",
    "soup = BeautifulSoup(resp.text, 'lxml')\n",
    "html = soup.find(\"select\", attrs={'name':'movie_id'})\n",
    "movie_item = html.find_all(\"option\", attrs={'data-name':re.compile('.*')})\n",
    "\n",
    "for p in movie_item:\n",
    "    print(\"Movie: %s, ID: %s\" % (p[\"data-name\"], p[\"value\"]))"
   ]
  },
  {
   "cell_type": "markdown",
   "metadata": {},
   "source": [
    "### 指定你有興趣的電影其ID，然後查詢其放映地區資訊。"
   ]
  },
  {
   "cell_type": "code",
   "execution_count": 3,
   "metadata": {},
   "outputs": [],
   "source": [
    "# 參考前一個步驟中擷取到的ID資訊，並指定ID\n",
    "movie_id = 10524"
   ]
  },
  {
   "cell_type": "code",
   "execution_count": 4,
   "metadata": {},
   "outputs": [
    {
     "name": "stdout",
     "output_type": "stream",
     "text": [
      "放映地區: 台北市, 代號(area_id): 28\n",
      "放映地區: 新北市, 代號(area_id): 8\n",
      "放映地區: 桃園, 代號(area_id): 16\n",
      "放映地區: 新竹, 代號(area_id): 20\n",
      "放映地區: 苗栗, 代號(area_id): 15\n",
      "放映地區: 台中, 代號(area_id): 2\n",
      "放映地區: 雲林, 代號(area_id): 19\n",
      "放映地區: 嘉義, 代號(area_id): 21\n",
      "放映地區: 台南, 代號(area_id): 10\n",
      "放映地區: 高雄, 代號(area_id): 17\n",
      "放映地區: 宜蘭, 代號(area_id): 11\n",
      "放映地區: 花蓮, 代號(area_id): 12\n",
      "放映地區: 金門, 代號(area_id): 24\n"
     ]
    }
   ],
   "source": [
    "url = 'https://movies.yahoo.com.tw/api/v1/areas_by_movie_theater'\n",
    "payload = {'movie_id':str(movie_id)}\n",
    "\n",
    "# 模擬一個header\n",
    "headers = {\n",
    "    'authority': 'movies.yahoo.com.tw',\n",
    "    'method': 'GET',\n",
    "    'path': '/api/v1/areas_by_movie_theater?movie_id=' + str(movie_id),\n",
    "    'scheme': 'https',\n",
    "    'accept': 'application/json, text/javascript, */*; q=0.01',\n",
    "    'accept-encoding': 'gzip, deflate, br',\n",
    "    'accept-language': 'zh-TW,zh;q=0.9,en-US;q=0.8,en;q=0.7,zh-CN;q=0.6',\n",
    "    'cookie': 'rxx=9s3x2fws06.1g16irnc&v=1; _ga=GA1.3.2056742944.1551651301; GUC=AQEBAQFczFpdm0IfmwSB&s=AQAAACoo4N5D&g=XMsVBw; BX=4hkdk1decm57t&b=3&s=mr; _ga=GA1.4.2056742944.1551651301; nexagesuid=82843256dd234e8e91aa73f2062f8218; browsed_movie=eyJpdiI6IlJXWWtiSWJaZlNGK2MxQnhscnVUYWc9PSIsInZhbHVlIjoiMXRhMmVHRXRIeUNjc1RBWDJzdGYwbnlIQURmWGsrcjJSMzhkbkcraDNJVUNIZEZsbzU3amlFcVZ1NzlmazJrTGpoMjVrbHk1YmpoRENXaHZTOUw1TmI2ZTZVWHdOejZQZm16RmVuMWlHTTJLaTZLVFZZVkFOMDlTd1wvSGltcytJIiwibWFjIjoiZWQ2ZjA4MmVjZmZlYjlmNjJmYmY2NGMyMDI0Njc0NWViYjVkOWE2NDg0N2RhODMxZjBjZDhiMmJhZTc2MDZhYiJ9; avi=eyJpdiI6Im1NeWFJRlVRWDR1endEcGRGUGJUbVE9PSIsInZhbHVlIjoickRpU3JuUytmcGl6cjF5OW0rNU9iZz09IiwibWFjIjoiY2VmY2NkNzZmM2NhNjY5YzlkOTcyNjE5OGEyMzU0NWYxOTdmMDRkMDY3OWNmMmZjOTMxYjc5MjI5N2Q5NGE5MiJ9; cmp=t=1559391030&j=0; _gid=GA1.4.779543841.1559391031; XSRF-TOKEN=eyJpdiI6IkhpS2hGcDRQaHlmWUJmaHdSS2Q2bHc9PSIsInZhbHVlIjoiOUVoNFk4OHI1UUZmUWRtYXhza0MyWjJSTlhlZ3RnT0VGeVJPN2JuczVRMGRFdWt2OUlsamVKeHRobFwvcHBGM0dhU3VyMXNGTHlsb2dVM2l0U1hpUGxBPT0iLCJtYWMiOiJkZWU4YzJhNjAxMTY3MzE4Y2ExNWIxYmE1ZjE1YWZlZTlhOTcyYjc4M2RlZGY4ZWNjZDYyMTA2NGYwZGViMzc2In0%3D; m_s=eyJpdiI6InpsZHZ2Tk1BZ0dxaHhETml1RjBnUXc9PSIsInZhbHVlIjoiSkNGeHUranRoXC85bDFiaDhySTJqNkJRcWdjWUxjeVRJSHVYZ1wvd2d4bWJZUTUrSHVDM0lUcW5KNHdETFZ4T1lieU81OUhzc1VoUXhZcWk0UDZSQXVFdz09IiwibWFjIjoiYmJkMDJkMDhlODIzMzcyMWY4M2NmYWNjNGVlOWRjMDIwZmVmNzAyMjE3Yzg3ZGY3ODBkZWEzZTI4MTI5ZWNmOSJ9; _gat=1; nexagesd=10',\n",
    "    'dnt': '1',\n",
    "    'mv-authorization': '21835b082e15b91a69b3851eec7b31b82ce82afb',\n",
    "    'referer': 'https://movies.yahoo.com.tw/',\n",
    "    'user-agent': 'Mozilla/5.0 (Windows NT 10.0; Win64; x64) AppleWebKit/537.36 (KHTML, like Gecko) Chrome/74.0.3729.169 Safari/537.36',\n",
    "    'x-requested-with': 'XMLHttpRequest',\n",
    "}\n",
    "    \n",
    "resp = requests.get(url, params=payload, headers=headers)\n",
    "#print(resp.json())  # 若有需要，列印出json原始碼\n",
    "\n",
    "# 這裡回傳的格式是JSON格式的資料，要解析JSON擷取資料\n",
    "for p in resp.json():\n",
    "    print('放映地區: {0}, 代號(area_id): {1}'.format(p['title'], p['area_id']))"
   ]
  },
  {
   "cell_type": "markdown",
   "metadata": {},
   "source": [
    "### 指定你想要觀看的放映地區，查詢有上映電影的場次日期"
   ]
  },
  {
   "cell_type": "code",
   "execution_count": 5,
   "metadata": {},
   "outputs": [],
   "source": [
    "# 指定放映地區\n",
    "area_id = 28"
   ]
  },
  {
   "cell_type": "code",
   "execution_count": 6,
   "metadata": {},
   "outputs": [
    {
     "name": "stdout",
     "output_type": "stream",
     "text": [
      "七月 8\n",
      "七月 9\n",
      "七月 10\n",
      "七月 11\n",
      "七月 12\n"
     ]
    }
   ],
   "source": [
    "# 向網站發送請求\n",
    "url = 'https://movies.yahoo.com.tw/movietime_result.html'\n",
    "payload = {'movie_id':str(movie_id), 'area_id':str(area_id)}\n",
    "resp = requests.get(url, params=payload)\n",
    "resp.encoding = 'utf-8'\n",
    "\n",
    "soup = BeautifulSoup(resp.text, 'lxml')\n",
    "movie_date = soup.find_all(\"label\", attrs={'for':re.compile(\"date_[\\d]\")})\n",
    "\n",
    "# 列印播放日期\n",
    "for date in movie_date:\n",
    "    print(\"%s %s\" % (date.p.string, date.h3.string))"
   ]
  },
  {
   "cell_type": "markdown",
   "metadata": {},
   "source": [
    "### 最後指定觀看的日期，查詢並列印出放映的電影院、放映類型(數位、3D、IMAX 3D...)、放映時間等資訊。"
   ]
  },
  {
   "cell_type": "code",
   "execution_count": 7,
   "metadata": {},
   "outputs": [],
   "source": [
    "# 選定要觀看的日期\n",
    "date = \"2020-07-12\""
   ]
  },
  {
   "cell_type": "code",
   "execution_count": 8,
   "metadata": {
    "scrolled": true
   },
   "outputs": [],
   "source": [
    "# 向網站發送請求，獲取上映的電影院及時間資訊\n",
    "url = \"https://movies.yahoo.com.tw/ajax/pc/get_schedule_by_movie\"\n",
    "payload = {'movie_id':str(movie_id),\n",
    "           'date':date,\n",
    "           'area_id':str(area_id),\n",
    "           'theater_id':'',\n",
    "           'datetime':'',\n",
    "           'movie_type_id':''}\n",
    "\n",
    "resp = requests.get(url, params=payload)\n",
    "#print(resp.json()['view'])  # 若有需要，列印出json原始碼\n",
    "\n",
    "soup = BeautifulSoup(resp.json()['view'], 'lxml')\n",
    "html = soup.find_all(\"ul\", attrs={'data-theater_name':re.compile(\".*\")})"
   ]
  },
  {
   "cell_type": "code",
   "execution_count": 9,
   "metadata": {},
   "outputs": [
    {
     "data": {
      "text/plain": [
       "'\\n\\n  試著從上一步驟回傳的電影院資料中，擷取電影院名稱、影片放映類型以及時間表\\n  \\n  Your code here.\\n\\n'"
      ]
     },
     "execution_count": 9,
     "metadata": {},
     "output_type": "execute_result"
    }
   ],
   "source": [
    "'''\n",
    "\n",
    "  試著從上一步驟回傳的電影院資料中，擷取電影院名稱、影片放映類型以及時間表\n",
    "  \n",
    "  Your code here.\n",
    "\n",
    "'''"
   ]
  },
  {
   "cell_type": "code",
   "execution_count": 10,
   "metadata": {},
   "outputs": [
    {
     "name": "stdout",
     "output_type": "stream",
     "text": [
      "Movie_Id: 台北美麗華大直影城\n",
      "放映類型: 數位\n",
      "2020-07-12 11:00:00\n",
      "2020-07-12 13:00:00\n",
      "2020-07-12 15:00:00\n",
      "2020-07-12 17:40:00\n",
      "2020-07-12 19:10:00\n",
      "2020-07-12 22:10:00\n",
      "\n",
      "-------------------------\n",
      "Movie_Id: 台北日新威秀影城\n",
      "放映類型: 數位\n",
      "2020-07-12 13:35:00\n",
      "2020-07-12 17:10:00\n",
      "2020-07-12 21:25:00\n",
      "\n",
      "-------------------------\n",
      "Movie_Id: 台北真善美劇院\n",
      "放映類型: 數位\n",
      "2020-07-12 10:30:00\n",
      "2020-07-12 16:30:00\n",
      "2020-07-12 20:55:00\n",
      "\n",
      "-------------------------\n",
      "Movie_Id: 台北信義威秀影城\n",
      "放映類型: 數位\n",
      "2020-07-12 10:10:00\n",
      "2020-07-12 12:10:00\n",
      "2020-07-12 14:10:00\n",
      "2020-07-12 16:10:00\n",
      "2020-07-12 18:10:00\n",
      "2020-07-12 20:10:00\n",
      "2020-07-12 22:10:00\n",
      "\n",
      "-------------------------\n",
      "Movie_Id: 京站威秀影城\n",
      "放映類型: 數位\n",
      "2020-07-12 11:45:00\n",
      "2020-07-12 13:40:00\n",
      "2020-07-12 15:40:00\n",
      "2020-07-12 17:35:00\n",
      "2020-07-12 19:30:00\n",
      "\n",
      "-------------------------\n",
      "Movie_Id: 梅花數位影院\n",
      "放映類型: 數位\n",
      "2020-07-12 10:20:00\n",
      "2020-07-12 14:40:00\n",
      "2020-07-12 19:00:00\n",
      "2020-07-12 21:00:00\n",
      "\n",
      "-------------------------\n",
      "Movie_Id: 台北新民生戲院\n",
      "放映類型: 數位\n",
      "2020-07-12 19:20:00\n",
      "\n",
      "-------------------------\n",
      "Movie_Id: MUVIE CINEMAS台北松仁威秀\n",
      "放映類型: 數位\n",
      "2020-07-12 11:40:00\n",
      "2020-07-12 15:00:00\n",
      "2020-07-12 17:00:00\n",
      "2020-07-12 19:00:00\n",
      "2020-07-12 21:00:00\n",
      "\n",
      "-------------------------\n"
     ]
    }
   ],
   "source": [
    "for k in html:\n",
    "    theater_name = k.find(\"a\").text\n",
    "    theater_type = k.find(\"span\", class_=\"tapR\").text\n",
    "    print(\"Movie_Id:\", theater_name)\n",
    "    print(\"放映類型:\", theater_type)\n",
    "    for k1 in k.findAll(\"input\"):\n",
    "        print(k1['value'])\n",
    "    print('')    \n",
    "    print('-------------------------')"
   ]
  },
  {
   "cell_type": "code",
   "execution_count": null,
   "metadata": {},
   "outputs": [],
   "source": []
  },
  {
   "cell_type": "code",
   "execution_count": null,
   "metadata": {},
   "outputs": [],
   "source": []
  }
 ],
 "metadata": {
  "kernelspec": {
   "display_name": "Python 3",
   "language": "python",
   "name": "python3"
  },
  "language_info": {
   "codemirror_mode": {
    "name": "ipython",
    "version": 3
   },
   "file_extension": ".py",
   "mimetype": "text/x-python",
   "name": "python",
   "nbconvert_exporter": "python",
   "pygments_lexer": "ipython3",
   "version": "3.7.4"
  }
 },
 "nbformat": 4,
 "nbformat_minor": 2
}
