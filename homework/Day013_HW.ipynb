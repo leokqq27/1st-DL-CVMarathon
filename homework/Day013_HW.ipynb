{
 "cells": [
  {
   "cell_type": "markdown",
   "metadata": {},
   "source": [
    "# PTT 網路爬蟲實作練習\n",
    "\n",
    "\n",
    "* 能夠利用 Request + BeatifulSour 撰寫爬蟲，並存放到合適的資料結構\n"
   ]
  },
  {
   "cell_type": "markdown",
   "metadata": {},
   "source": [
    "## 作業目標\n",
    "\n",
    "根據範例 ，完成以下問題：\n",
    "\n",
    "* ① 印出最新文章的「作者」「標題」「時間」\n",
    "* ② 印出第一頁所有文章的「作者」「標題」「時間」\n"
   ]
  },
  {
   "cell_type": "markdown",
   "metadata": {},
   "source": [
    "### ① 印出最新文章的「作者」「標題」「時間」"
   ]
  },
  {
   "cell_type": "code",
   "execution_count": 30,
   "metadata": {},
   "outputs": [],
   "source": [
    "import requests\n",
    "from bs4 import BeautifulSoup\n",
    "\n",
    "url = 'https://www.ptt.cc/bbs/NBA/index.html'\n",
    "r = requests.get(url)\n",
    "\n",
    "soup = BeautifulSoup(r.text, \"html5lib\")\n"
   ]
  },
  {
   "cell_type": "code",
   "execution_count": 36,
   "metadata": {},
   "outputs": [
    {
     "name": "stdout",
     "output_type": "stream",
     "text": [
      "[新聞] 憂球員垃圾話兒少不宜 席佛稱考慮轉播延\n",
      "作者: ericf129 (☆小艾克★)\n"
     ]
    }
   ],
   "source": [
    "k = soup.find(class_ = \"title\")\n",
    "k2 = k.text.replace('\\t','').replace('\\n','')\n",
    "print(k2)\n",
    "\n",
    "r = BeautifulSoup(requests.get('https://www.ptt.cc'+k.find('a')['href']).text, \"html5lib\")\n",
    "print('作者:',r.find(class_='article-meta-value').text)"
   ]
  },
  {
   "cell_type": "markdown",
   "metadata": {},
   "source": [
    "### ② 印出第一頁所有文章的「作者」「標題」「時間」"
   ]
  },
  {
   "cell_type": "code",
   "execution_count": 32,
   "metadata": {},
   "outputs": [
    {
     "name": "stdout",
     "output_type": "stream",
     "text": [
      "[新聞] 憂球員垃圾話兒少不宜 席佛稱考慮轉播延\n",
      "作者: ericf129 (☆小艾克★)\n",
      "[情報] KT陪同訓練的Rocco：他只精神支持不使勁\n",
      "作者: ckny (辛苦的歲月)\n",
      "[新聞] 自曝失業好鬱卒　JR曾連最愛電玩都不想碰\n",
      "作者: doepe (恰恰)\n",
      "[花邊] 擔任雜誌客座主編 安東尼替黑人平權發聲\n",
      "作者: thnlkj0665 (灰色地帶)\n",
      "[新聞] NFL四分衛簽超級大約 詹姆斯：可以借我5\n",
      "作者: cena0605 (姜西拿)\n",
      "[情報] Vanessa Bryant 祝賀Pau Gasol生日快樂\n",
      "作者: thnlkj0665 (灰色地帶)\n",
      "[情報] Beal因肩傷不參加復賽\n",
      "作者: charles33 (LakerShow)\n",
      "Re: [花邊] Allen Iverson中距離投射能力？\n",
      "作者: stark841117 (包龍星)\n",
      "[情報] Spencer Dinwiddie 確定不打複賽\n",
      "作者: DarkApplePie (黑林檎派)\n",
      "[情報] Taurean Prince確診\n",
      "作者: willy911006 (小溫)\n",
      "[情報] ESPN: 半場落後15分，召喚一名球星\n",
      "作者: VeryGoodBoy (低端男孩)\n",
      "[外絮] Silver:若閉門後有更多陽性 可能會再停賽\n",
      "作者: pneumo (超☆冒險蓋)\n",
      "[情報] 丹東尼討論兼顧防疫與教球\n",
      "作者: yowhatsupsli (賣火柴的小女孩)\n",
      "[外絮] 若拿冠軍 湖人計畫仍會給Bradley冠軍戒\n",
      "作者: pneumo (超☆冒險蓋)\n",
      "[花邊] Enes Kanter在ig發布跟長人合照\n",
      "作者: bubu26 (白寶)\n",
      "[情報] 球員分享進入迪士尼世界的第一天晚餐\n",
      "作者: thnlkj0665 (灰色地帶)\n",
      "[公告] 板規v6.8\n",
      "[公告] 版主上任相關事項 \n",
      "作者: qazwsx879345 (Rajon Rondo)\n",
      "[情報] SEASON Schedule 賽程 March 19–20\n",
      "作者: Acetoxy (阿斯)\n",
      "[公告] 第一次被退文，可在三天後刪除退文\n",
      "作者: Vedan (味丹)\n",
      "[公告] 板務說明 (發錢)\n",
      "作者: Vedan (味丹)\n"
     ]
    }
   ],
   "source": [
    "for d in soup.find_all(class_=\"title\"):\n",
    "    print(d.text.replace('\\t', '').replace('\\n', ''))\n",
    "    try:\n",
    "        r = BeautifulSoup(requests.get('https://www.ptt.cc'+d.find('a')['href']).text, \"html5lib\")\n",
    "        print('作者: ' + r.find(class_='article-meta-value').text)\n",
    "    except:\n",
    "        continue"
   ]
  },
  {
   "cell_type": "markdown",
   "metadata": {},
   "source": [
    "### ③ 試著爬爬看其他版的文章"
   ]
  },
  {
   "cell_type": "code",
   "execution_count": 27,
   "metadata": {},
   "outputs": [
    {
     "name": "stdout",
     "output_type": "stream",
     "text": [
      "[心得] 巴黎萊雅粉底～夏天加入恆霧無油慮\n",
      "作者: aoedida (死定了)\n",
      "[問題] mocodo經典藍美妝蛋\n",
      "作者: e41421 (楓糖)\n",
      "[心得] 試用後決定買！植村秀無極限粉底\n",
      "作者: sandwich02 (Sandy)\n",
      "[心得] YSL時尚印記雪絨唇釉\n",
      "作者: daisukiruki (紅豆口味丸子)\n",
      "[心得] 韓系素顏霜評比\n",
      "作者: Olivia0505 (薇亞)\n",
      "[妝容] 乖乖女的面試妝~\n",
      "作者: yuikahsu (Yuika)\n",
      "[心得] 蘭蔻零粉感粉底選色+粉底棒新色號\n",
      "作者: DorisTang (Doris)\n",
      "[選擇] YSL黑蓋唇釉 紅唇色#212&211哪個好?\n",
      "作者: mira327327 (Mira)\n",
      "[心得] 大沛 不能沒有唇膏 水潤包色組\n",
      "作者: vicky1958tw (vicky150308)\n",
      "[情報] pony / I’m meme三折起！\n",
      "作者: vvii3232 (Jamie)\n",
      "[公告] 美妝板規 ★ 問與答 2019-4-19重新發表\n",
      "[情報] 2020/07月 熱門商品推文區\n",
      "作者: leon8712 (卡斯基)\n",
      "[閒聊] 2020/07月 置底打屁閒聊區\n",
      "作者: leon8712 (卡斯基)\n",
      "[公告] 重申板規四問卷之規定，也請板友們留意\n",
      "作者: leon8712 (卡斯基)\n",
      "[公告] 重申板規四問卷之規定，也請板友們留意\n",
      "作者: leon8712 (卡斯基)\n"
     ]
    }
   ],
   "source": [
    "url = 'https://www.ptt.cc/bbs/MakeUp/index.html'\n",
    "r = requests.get(url)\n",
    "\n",
    "soup = BeautifulSoup(r.text, \"html5lib\")\n",
    "\n",
    "for d in soup.find_all(class_=\"title\"):\n",
    "    print(d.text.replace('\\t', '').replace('\\n', ''))\n",
    "    try:\n",
    "        r = BeautifulSoup(requests.get('https://www.ptt.cc'+d.find('a')['href']).text, \"html5lib\")\n",
    "        print('作者: ' + r.find(class_='article-meta-value').text)\n",
    "    except:\n",
    "        continue"
   ]
  },
  {
   "cell_type": "code",
   "execution_count": null,
   "metadata": {},
   "outputs": [],
   "source": []
  }
 ],
 "metadata": {
  "kernelspec": {
   "display_name": "Python 3",
   "language": "python",
   "name": "python3"
  },
  "language_info": {
   "codemirror_mode": {
    "name": "ipython",
    "version": 3
   },
   "file_extension": ".py",
   "mimetype": "text/x-python",
   "name": "python",
   "nbconvert_exporter": "python",
   "pygments_lexer": "ipython3",
   "version": "3.7.4"
  }
 },
 "nbformat": 4,
 "nbformat_minor": 2
}
